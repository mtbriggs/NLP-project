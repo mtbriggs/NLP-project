{
 "cells": [
  {
   "cell_type": "markdown",
   "metadata": {},
   "source": [
    "**This project employed the use of Wikipedia and Reddit data to track changes in a Wikipedia page over time. Data from Reddit was used in a TF-IDF and sentiment analysis. Deletions and changes in edits were tracked on Wikipedia through a text analysis.**"
   ]
  },
  {
   "cell_type": "markdown",
   "metadata": {},
   "source": [
    "# **Section 1: Wikipedia**"
   ]
  },
  {
   "cell_type": "markdown",
   "metadata": {},
   "source": [
    "# 1.1 Data Retrieval"
   ]
  },
  {
   "cell_type": "code",
   "execution_count": 1,
   "metadata": {},
   "outputs": [
    {
     "name": "stdout",
     "output_type": "stream",
     "text": [
      "\n",
      "curl -d \"&pages=Warsaw concentration camp&action=submit&limit=1000&offset=20190101003006\" https://en.wikipedia.org/w/index.php?title=Special:Export -o \"Warsaw.xml\"\n",
      "\n"
     ]
    }
   ],
   "source": [
    "## Read in Warsaw Concentration Camp page from Wikipedia to .xml \n",
    "## Read in 1000 revisions beginning with January 1, 2019\n",
    "## FSDS_W4_2_Working_with_APIs\n",
    "\n",
    "fileout = \"Warsaw.xml\"\n",
    "\n",
    "## Set offset to January 1, 2019 to retrieve all of the revisions for the 2019 year\n",
    "## There were 230 revisions for the 2019 calendar year at the time of this analysis\n",
    "\n",
    "curl_query = '''\n",
    "curl -d \"&pages={}&action=submit&limit=1000&offset=20190101003006\" https://en.wikipedia.org/w/index.php?title=Special:Export -o \"{}\"\n",
    "'''.format(\"Warsaw concentration camp\",fileout)\n",
    "\n",
    "print(curl_query)\n",
    "\n",
    "#import os\n",
    "\n",
    "#os.system(curl_query)"
   ]
  },
  {
   "cell_type": "markdown",
   "metadata": {},
   "source": [
    "# 1.2 Read Wikipedia data"
   ]
  },
  {
   "cell_type": "code",
   "execution_count": 2,
   "metadata": {},
   "outputs": [
    {
     "ename": "FileNotFoundError",
     "evalue": "[Errno 2] No such file or directory: 'Warsaw.xml'",
     "output_type": "error",
     "traceback": [
      "\u001b[1;31m---------------------------------------------------------------------------\u001b[0m",
      "\u001b[1;31mFileNotFoundError\u001b[0m                         Traceback (most recent call last)",
      "\u001b[1;32m<ipython-input-2-4bdccdaf9b14>\u001b[0m in \u001b[0;36m<module>\u001b[1;34m\u001b[0m\n\u001b[0;32m     14\u001b[0m \u001b[1;31m## Read in .xml to .json file\u001b[0m\u001b[1;33m\u001b[0m\u001b[1;33m\u001b[0m\u001b[1;33m\u001b[0m\u001b[0m\n\u001b[0;32m     15\u001b[0m \u001b[1;33m\u001b[0m\u001b[0m\n\u001b[1;32m---> 16\u001b[1;33m \u001b[1;32mwith\u001b[0m \u001b[0mopen\u001b[0m\u001b[1;33m(\u001b[0m\u001b[1;34m'Warsaw.xml'\u001b[0m\u001b[1;33m,\u001b[0m \u001b[0mencoding\u001b[0m \u001b[1;33m=\u001b[0m \u001b[1;34m\"utf8\"\u001b[0m\u001b[1;33m)\u001b[0m \u001b[1;32mas\u001b[0m \u001b[0mfd\u001b[0m\u001b[1;33m:\u001b[0m\u001b[1;33m\u001b[0m\u001b[1;33m\u001b[0m\u001b[0m\n\u001b[0m\u001b[0;32m     17\u001b[0m     \u001b[0mdoc\u001b[0m \u001b[1;33m=\u001b[0m \u001b[0mxmltodict\u001b[0m\u001b[1;33m.\u001b[0m\u001b[0mparse\u001b[0m\u001b[1;33m(\u001b[0m\u001b[0mfd\u001b[0m\u001b[1;33m.\u001b[0m\u001b[0mread\u001b[0m\u001b[1;33m(\u001b[0m\u001b[1;33m)\u001b[0m\u001b[1;33m)\u001b[0m\u001b[1;33m\u001b[0m\u001b[1;33m\u001b[0m\u001b[0m\n\u001b[0;32m     18\u001b[0m \u001b[1;33m\u001b[0m\u001b[0m\n",
      "\u001b[1;31mFileNotFoundError\u001b[0m: [Errno 2] No such file or directory: 'Warsaw.xml'"
     ]
    }
   ],
   "source": [
    "## xmltodict notation: https://www.journaldev.com/19392/python-xml-to-json-dict\n",
    "\n",
    "import xmltodict\n",
    "import pprint\n",
    "import json\n",
    "from pandas.io.json import json_normalize\n",
    "import pandas as pd\n",
    "\n",
    "\n",
    "pd.set_option('display.max_colwidth', 200)\n",
    "#pd.set_option('display.width', 1000)\n",
    "\n",
    "\n",
    "## Read in .xml to .json file\n",
    "\n",
    "with open('Warsaw.xml', encoding = \"utf8\") as fd:\n",
    "    doc = xmltodict.parse(fd.read())\n",
    "    \n",
    "with open(\"Warsaw\", \"w\") as file_new:\n",
    "    json.dump(doc,file_new)\n",
    "\n",
    "with open(\"Warsaw\", \"r\") as file_new:\n",
    "    new = json.load(file_new)\n",
    "    \n",
    "## Normalize to pandas dataframe\n",
    "\n",
    "final = json_normalize(new[\"mediawiki\"][\"page\"][\"revision\"])\n",
    "#display(type(final))\n",
    "#display(final)\n",
    " "
   ]
  },
  {
   "cell_type": "markdown",
   "metadata": {},
   "source": [
    "# 1.3 Compare Revision Data Across Specific Dates"
   ]
  },
  {
   "cell_type": "code",
   "execution_count": 3,
   "metadata": {},
   "outputs": [],
   "source": [
    "new_df = final.copy()\n",
    "\n",
    "new_df[\"text.#text\"]== new_df[\"text.#text\"].astype(str)\n",
    "\n",
    "\n",
    "## Search for the word conspiracy and Poles within text body \n",
    "## 18 is where the change occurs \n",
    "\n",
    "df1 = new_df['text.#text'].str.contains(\"conspiracy\")\n",
    "#print(df1[:50]) \n",
    "\n",
    "df2 = new_df['text.#text'].str.contains(\"Poles\")\n",
    "#print(df2[:50])\n",
    "\n",
    "\n",
    "## Pre-Notice of the False History on this Page \n",
    "## First post of the 2019 year\n",
    "\n",
    "January  = final[final[\"timestamp\"]== \"2019-01-17T15:18:54Z\"]\n",
    "January_text = January[\"text.#text\"].iloc[0]\n",
    "\n",
    "    \n",
    "## Post-Notice of the False History on this Page \n",
    "\n",
    "August28_2= final[final[\"timestamp\"]== \"2019-08-28T06:46:10Z\"]\n",
    "August28_text = August28_2[\"text.#text\"].iloc[0]\n",
    "\n",
    "    \n",
    "## Most recent update as of November 16,2019\n",
    "  \n",
    "November14 = final[final[\"timestamp\"]== \"2019-11-14T07:12:14Z\"]\n",
    "November14_text = November14[\"text.#text\"].iloc[0]\n",
    " \n",
    "    \n",
    "## Pulled revision from day of election, October 13, 2019\n",
    "\n",
    "October13 = final[final[\"timestamp\"] == \"2019-10-13T08:30:13Z\"]\n",
    "October13_text = October13[\"text.#text\"].iloc[0]"
   ]
  },
  {
   "cell_type": "markdown",
   "metadata": {},
   "source": [
    "# 1.4 Run Text Analysis Using Deltas"
   ]
  },
  {
   "cell_type": "code",
   "execution_count": 3,
   "metadata": {},
   "outputs": [],
   "source": [
    "## code quoted from https://pythonhosted.org/deltas/\n",
    "## Run text comparison of insertions, deletions and equal text\n",
    "\n",
    "from deltas import segment_matcher, text_split\n",
    "\n",
    "def textComparison(data1, data2):\n",
    "\n",
    "    a = text_split.tokenize(data1)\n",
    "    b = text_split.tokenize(data2)\n",
    "    operations = segment_matcher.diff(a, b)\n",
    "\n",
    "    for op in operations:\n",
    "        print(op.name, repr(''.join(a[op.a1:op.a2])),\n",
    "        repr(''.join(b[op.b1:op.b2])))\n",
    "    \n",
    "\n",
    "#textComparison(January_text, August28_text)\n",
    "\n",
    "#textComparison(August28_text, October13_text)\n",
    "\n",
    "#textComparison(January_text, November14_text)\n",
    "\n",
    "\n"
   ]
  },
  {
   "cell_type": "markdown",
   "metadata": {},
   "source": [
    "# 1.5 Visualization of Word Occurrence from Wikipedia Data"
   ]
  },
  {
   "cell_type": "code",
   "execution_count": 6,
   "metadata": {},
   "outputs": [
    {
     "data": {
      "text/plain": [
       "Count    7.52381\n",
       "Month    8.00000\n",
       "dtype: float64"
      ]
     },
     "metadata": {},
     "output_type": "display_data"
    },
    {
     "data": {
      "text/plain": [
       "<matplotlib.axes._subplots.AxesSubplot at 0x1c122712e48>"
      ]
     },
     "execution_count": 6,
     "metadata": {},
     "output_type": "execute_result"
    },
    {
     "data": {
      "image/png": "[encoded data removed]",
      "text/plain": [
       "<Figure size 432x288 with 1 Axes>"
      ]
     },
     "metadata": {},
     "output_type": "display_data"
    }
   ],
   "source": [
    "## Plot frequency and variation of the word \"Polish\" across 11 months\n",
    "\n",
    "import seaborn as sns\n",
    "import matplotlib.pyplot as plt\n",
    "\n",
    "## Define function that counts number of occurrences of specific word in body text\n",
    "\n",
    "\n",
    "def countOccurrences(word, sentence):\n",
    "    return sentence.count(word)\n",
    "\n",
    "\n",
    "\n",
    "new_df[\"text.#text\"] = new_df[\"text.#text\"].apply(str)\n",
    "\n",
    "## Use count Occurrences function to count frequency of the word \"Polish\" in all 230 rows of body text.\n",
    "\n",
    "count = {}\n",
    "time_list = []\n",
    "count_list= []\n",
    "for i in range(0, len(new_df)):\n",
    "    text = new_df.loc[i,\"text.#text\"]\n",
    "    time = new_df.loc[i,\"timestamp\"]\n",
    "    freq = countOccurrences(\"Polish\", text)\n",
    "    time_list.append(time)\n",
    "    count_list.append(freq)\n",
    "\n",
    "\n",
    "#display(len(time_list))\n",
    "\n",
    "counts = pd.DataFrame((zip(time_list, count_list)), columns =['Time', 'Count']) \n",
    "#display(counts)\n",
    "\n",
    "\n",
    "## Convert timestamp from Wikipedia into datetime and take month from each of the rows \n",
    "\n",
    "counts['datetime'] =  pd.to_datetime(counts['Time'], format=\"%Y-%m-%dT%H:%M:%SZ\")\n",
    "counts['Month'] = counts['datetime'].dt.month\n",
    "counts = counts[:-1]\n",
    "#display(counts.sort_values(by = \"Time\", ascending = True)[:30])\n",
    "\n",
    "\n",
    "## Set style of plot\n",
    "def set_style():\n",
    "    sns.set_context(\"paper\")\n",
    "    sns.set(font='serif')\n",
    "    sns.set_style(\"white\", {\n",
    "        \"font.family\": \"serif\",\n",
    "        \"font.serif\": [\"Times\", \"Palatino\", \"serif\"]\n",
    "    })\n",
    "\n",
    "## Calculate mean for month of August \n",
    "\n",
    "count1 = counts[counts[\"Month\"] == 8].mean()\n",
    "\n",
    "\n",
    "display(count1)\n",
    "\n",
    "## Create scatterplot for variation in the count of word \"Polish\" for each month across 11 months \n",
    "\n",
    "set_style()\n",
    "ax= sns.scatterplot(x= \"Month\", y= \"Count\", data= counts, color = \"green\")\n",
    "ax.set_xlim(0,12)\n",
    "ax.set_ylim(-1,30)\n",
    "ax.set_xticks([1,2,3,4,5,6,7,8,9,10, 11, 12])\n",
    "ax.set_xlabel(\"Month\")\n",
    "ax.set_ylabel(\"Word Count\")\n",
    "ax.figure.savefig('Polish_time.png',  dpi=2000, bbox_inches = \"tight\")\n",
    "ax\n",
    "\n",
    "\n",
    "\n",
    "     "
   ]
  },
  {
   "cell_type": "markdown",
   "metadata": {},
   "source": [
    "# 1.6 Visualization of Frequency of Wikipedia Revisions"
   ]
  },
  {
   "cell_type": "code",
   "execution_count": 7,
   "metadata": {},
   "outputs": [
    {
     "data": {
      "image/png": "[encoded data removed]",
      "text/plain": [
       "<Figure size 432x288 with 1 Axes>"
      ]
     },
     "metadata": {},
     "output_type": "display_data"
    }
   ],
   "source": [
    "##Create plot of number of revision dates\n",
    "\n",
    "\n",
    "## Find number of revisions per month using datetime\n",
    "\n",
    "new_df['datetime'] =  pd.to_datetime(new_df['timestamp'], format=\"%Y-%m-%dT%H:%M:%SZ\")\n",
    "\n",
    "new_df[\"month\"] = new_df[\"datetime\"].dt.month\n",
    "\n",
    "\n",
    "set_style()\n",
    "\n",
    "\n",
    "ax2 = sns.distplot(new_df[\"month\"], bins = 11)\n",
    "ax2.set_xlim(1,13)\n",
    "ax2.set_ylim(0,.6)\n",
    "ax2.set_xlabel(\"Month\")\n",
    "ax2.set_ylabel(\"Frequency\")\n",
    "ax2.set_xticks([1,2,3,4,5,6,7,8,9,10, 11,12])\n",
    "\n",
    "\n",
    "plt.savefig('RevisionData.png',dpi=2000, bbox_inches = \"tight\")\n",
    "\n"
   ]
  },
  {
   "cell_type": "markdown",
   "metadata": {},
   "source": [
    "# **Section 2: Reddit**"
   ]
  },
  {
   "cell_type": "markdown",
   "metadata": {},
   "source": [
    "# 2.1 Data Retrieval"
   ]
  },
  {
   "cell_type": "code",
   "execution_count": 5,
   "metadata": {},
   "outputs": [],
   "source": [
    "## Based on FSDS_4_1_Getting_Web_Data_from_Reddit\n",
    "\n",
    "\n",
    "import json\n",
    "from pandas.io.json import json_normalize\n",
    "\n",
    "try: \n",
    "    import praw\n",
    "except ModuleNotFoundError:\n",
    "    import sys\n",
    "    !{sys.executable} -m pip install praw\n",
    "    import praw\n",
    "    \n",
    "## keys.json was created and stores user specific client_id, client_secret, username, and password\n",
    "\n",
    "## load JSON into Python with Reddit API user information\n",
    "\n",
    "keys = json.loads(open(\"keys.json\").read())\n",
    "\n",
    "## Check for correct login and user account through OAuth\n",
    "\n",
    "reddit = praw.Reddit(user_agent='Comment Extraction (by /u/\tpythonsummative)',\n",
    "                     client_id=keys['client_id'], \n",
    "                     client_secret=keys['client_secret'],\n",
    "                     username=keys['username'], \n",
    "                     password=keys['password'])\n",
    "\n"
   ]
  },
  {
   "cell_type": "markdown",
   "metadata": {},
   "source": [
    "# 2.2  Read Reddit Data"
   ]
  },
  {
   "cell_type": "code",
   "execution_count": 6,
   "metadata": {},
   "outputs": [],
   "source": [
    "## Based on FSDS_4_1_Getting_Web_Data_from_Reddit\n",
    "\n",
    "\n",
    "## Pull three Reddit posts \n",
    "\n",
    "post1 = reddit.submission(url=\"https://www.reddit.com/r/worldnews/comments/dhf15n/polands_nationalist_law_and_justice_party/\")\n",
    "post2 = reddit.submission(url='https://www.reddit.com/r/worldnews/comments/bbz49b/polish_senator_says_nation_should_be_purged_of/')\n",
    "post3 = reddit.submission(url= 'https://www.reddit.com/r/worldnews/comments/akb64f/polish_nationalists_march_on_auschwitz_to_protest/')\n",
    "\n",
    "\n",
    "## creation of function for reading in Reddit posts and creating dataframes from them\n",
    "\n",
    "def dfCreation(post):\n",
    "    df_list = []\n",
    "    flag = True \n",
    "    for c,comment in enumerate(post.comments.list()):\n",
    "        \n",
    "        ## Both try statements exist due to previous deletions of both user accounts and comments\n",
    "        ## If they have been deleted, \"[deleted]\" will be assigned accordingly\n",
    "        \n",
    "        try:\n",
    "            x = comment.author.name,\n",
    "            authorname = x[0]\n",
    "        except AttributeError:\n",
    "            authorname = \"[deleted]\"\n",
    "\n",
    "        try:\n",
    "            comment_body = comment.body,\n",
    "        except AttributeError:\n",
    "            comment_body = \"[deleted]\"\n",
    "            \n",
    "        ## Grab id, body, authorname, upvotes, created timestamp, depth,parent id, subreddit, and is_submitter from every Reddit comment and subcomment\n",
    "\n",
    "        try: \n",
    "            df_list.append([ \\\n",
    "            comment.id,\n",
    "            comment_body,\n",
    "            authorname,\n",
    "            comment.ups,\n",
    "            comment.created_utc,\n",
    "            comment.depth,\n",
    "            comment.parent_id[3:],\n",
    "            comment.subreddit, \n",
    "            comment.is_submitter,   \n",
    "            ])\n",
    "        except AttributeError:\n",
    "            if flag: \n",
    "                flag = True\n",
    "\n",
    "    df = pd.DataFrame(df_list,columns=[\"id\",\"body\",\"authorname\",\"ups\",\"created_utc\",\"depth\",\"parent_id\", \"subreddit\",\"submitter_ID\"])\n",
    "    return df\n",
    "\n",
    "## Run function to load in Reddit posts\n",
    "\n",
    "reddit_df = dfCreation(post1)\n",
    "#display(reddit_df)\n",
    "reddit_df2 = dfCreation(post2)\n",
    "#display(reddit_df2)\n",
    "reddit_df3 = dfCreation(post3)\n",
    "#display(reddit_df3)\n",
    "    \n"
   ]
  },
  {
   "cell_type": "markdown",
   "metadata": {},
   "source": [
    "# 2.3 Analyze upvotes on three Reddit posts"
   ]
  },
  {
   "cell_type": "code",
   "execution_count": 7,
   "metadata": {},
   "outputs": [],
   "source": [
    "## Display 10 comments for most and least upvotes for each of the three Reddit posts \n",
    "\n",
    "#display(reddit_df.sort_values(by = \"ups\",ascending=False)[:10])\n",
    "#display(reddit_df.sort_values(by = \"ups\",ascending=True)[:10])\n",
    "\n",
    "#display(reddit_df2.sort_values(by = \"ups\",ascending=False)[:10])\n",
    "#display(reddit_df2.sort_values(by = \"ups\",ascending=True)[:10])\n",
    "\n",
    "#display(reddit_df3.sort_values(by = \"ups\",ascending=False)[:10])\n",
    "#display(reddit_df3.sort_values(by = \"ups\",ascending=True)[:10])\n",
    "\n",
    "\n"
   ]
  },
  {
   "cell_type": "code",
   "execution_count": 17,
   "metadata": {},
   "outputs": [
    {
     "data": {
      "text/plain": [
       "<matplotlib.axes._subplots.AxesSubplot at 0x1c1250c4518>"
      ]
     },
     "execution_count": 17,
     "metadata": {},
     "output_type": "execute_result"
    },
    {
     "data": {
      "image/png": "[encoded data removed]",
      "text/plain": [
       "<Figure size 432x288 with 1 Axes>"
      ]
     },
     "metadata": {},
     "output_type": "display_data"
    }
   ],
   "source": [
    "## Additional visualizations of when comments were made across days and months for each post\n",
    "\n",
    "from datetime import datetime \n",
    "\n",
    "reddit_df[\"utc\"] = reddit_df[\"created_utc\"].map(lambda x: datetime.utcfromtimestamp(x) )\n",
    "reddit_df2[\"utc\"] = reddit_df2[\"created_utc\"].map(lambda x: datetime.utcfromtimestamp(x) )\n",
    "reddit_df3[\"utc\"] = reddit_df3[\"created_utc\"].map(lambda x: datetime.utcfromtimestamp(x) )\n",
    "\n",
    "#display(reddit_df)\n",
    "\n",
    "## Plot displaying revision days in October, signaling the revisions were made on election day and the day after\n",
    "\n",
    "reddit_df[\"utc\"].dt.day.value_counts().sort_index().plot.bar()\n",
    "#reddit_df2[\"utc\"].dt.month.value_counts().sort_index().plot.bar()\n",
    "#reddit_df3[\"utc\"].dt.day.value_counts().sort_index().plot.bar()"
   ]
  },
  {
   "cell_type": "markdown",
   "metadata": {},
   "source": [
    "# 2.4 Top Words Analysis: TF-IDF"
   ]
  },
  {
   "cell_type": "code",
   "execution_count": 18,
   "metadata": {},
   "outputs": [],
   "source": [
    "## Based on FSDS_w_3_1_NLPandasSQL\n",
    "\n",
    "\n",
    "import nltk\n",
    "# nltk.download('punkt')\n",
    "from nltk import word_tokenize\n",
    "from nltk.stem.porter import PorterStemmer\n",
    "\n",
    "## Stop-word packages\n",
    "\n",
    "# nltk.download('stopwords')\n",
    "from nltk.corpus import stopwords\n",
    "stopWords = set(stopwords.words('english'))\n",
    "\n",
    "## TF-IDF packages\n",
    "\n",
    "from sklearn.feature_extraction.text import TfidfVectorizer\n",
    "\n",
    "def tokenize(text,remove_stop=True, lower=True, sep=\" \"):\n",
    "    \n",
    "    if lower: text = text.lower() \n",
    "        \n",
    "    ## Separate text by space using word_tokenize \n",
    "        \n",
    "    tokens = word_tokenize(text) \n",
    "    stems = []\n",
    "    \n",
    "    ## remove stopwords and find stem words \n",
    "    \n",
    "    for item in tokens:          \n",
    "        if remove_stop:           \n",
    "            if item not in stopWords:  stems.append(PorterStemmer().stem(item))\n",
    "        else:\n",
    "            stems.append(PorterStemmer().stem(item))\n",
    "    return sep.join(stems)\n",
    "\n",
    "## make sure dataframes contain strings as data type for further sentiment analysis \n",
    "\n",
    "reddit_df = reddit_df.applymap(str)\n",
    "reddit_df2 = reddit_df2.applymap(str)\n",
    "reddit_df3 = reddit_df3.applymap(str)\n",
    "\n",
    "vectorizer = TfidfVectorizer()\n",
    "\n",
    "## apply tokenize function to text body \n",
    "## TFIDF anaylsis to see how important a word is in a document, using TfidVectorizer\n",
    "## Sort values by the most important words per the TFIDF analysis\n",
    "\n",
    "reddit_df[\"token_clean_body\"] = reddit_df[\"body\"].map(lambda body: tokenize(body))\n",
    "matrix = vectorizer.fit_transform(reddit_df[\"token_clean_body\"]).todense()\n",
    "matrix_df = pd.DataFrame(matrix, columns=vectorizer.get_feature_names())\n",
    "top_words = matrix_df.sum(axis=0).sort_values(ascending=False)\n",
    "\n",
    "reddit_df2[\"token_clean_body\"] = reddit_df2[\"body\"].map(lambda body: tokenize(body))\n",
    "matrix2 = vectorizer.fit_transform(reddit_df2[\"token_clean_body\"]).todense()\n",
    "matrix_df2 = pd.DataFrame(matrix2, columns=vectorizer.get_feature_names())\n",
    "top_words2 = matrix_df2.sum(axis=0).sort_values(ascending=False)\n",
    "\n",
    "reddit_df3[\"token_clean_body\"] = reddit_df3[\"body\"].map(lambda body: tokenize(body))\n",
    "matrix3 = vectorizer.fit_transform(reddit_df3[\"token_clean_body\"]).todense()\n",
    "matrix_df3 = pd.DataFrame(matrix3, columns=vectorizer.get_feature_names())\n",
    "top_words3 = matrix_df3.sum(axis=0).sort_values(ascending=False)\n",
    "\n",
    "\n"
   ]
  },
  {
   "cell_type": "code",
   "execution_count": 19,
   "metadata": {},
   "outputs": [
    {
     "data": {
      "text/plain": [
       "right     2.028508\n",
       "delet     2.000000\n",
       "parti     1.746575\n",
       "peopl     1.606254\n",
       "poland    1.522230\n",
       "vote      1.473594\n",
       "russia    1.450845\n",
       "far       1.442111\n",
       "sure      1.269104\n",
       "social    1.204926\n",
       "dtype: float64"
      ]
     },
     "metadata": {},
     "output_type": "display_data"
    }
   ],
   "source": [
    "## Show the top 10 words for each of the three Reddit posts \n",
    "\n",
    "display(top_words[:10])\n",
    "#display(top_words2[:10])\n",
    "#display(top_words3[:10])"
   ]
  },
  {
   "cell_type": "markdown",
   "metadata": {},
   "source": [
    "# 2.5 Sentiment Analysis"
   ]
  },
  {
   "cell_type": "code",
   "execution_count": 20,
   "metadata": {},
   "outputs": [],
   "source": [
    "try: \n",
    "    import vaderSentiment\n",
    "except ModuleNotFoundError:\n",
    "    import sys\n",
    "    !{sys.executable} -m pip install vaderSentiment\n",
    "    import vaderSentiment"
   ]
  },
  {
   "cell_type": "code",
   "execution_count": 21,
   "metadata": {},
   "outputs": [],
   "source": [
    "## Sentiment Analysis - VADER\n",
    "## Based on FSDS_w_3_1_NLPandasSQL\n",
    "\n",
    "\n",
    "from vaderSentiment.vaderSentiment import SentimentIntensityAnalyzer\n",
    "\n",
    "analyzer = SentimentIntensityAnalyzer()\n",
    "\n",
    "## Create a function that scores each sentence and creates a column for positive, negative, neutral and compound scores\n",
    "\n",
    "def Senti(df):\n",
    "    \n",
    "    ## Analyze polarity of each word in token_clean_body of dataframe\n",
    "\n",
    "    df[\"sentiment_cl\"] = df[\"token_clean_body\"].map(\n",
    "        lambda bodytext: analyzer.polarity_scores(bodytext))\n",
    "\n",
    "\n",
    "    df[\"senti_pos\"] = df[\"sentiment_cl\"].map(lambda x: x[\"pos\"])\n",
    "    df[\"senti_neg\"] = df[\"sentiment_cl\"].map(lambda x: x[\"neg\"])\n",
    "    df[\"senti_neu\"] = df[\"sentiment_cl\"].map(lambda x: x[\"neu\"])\n",
    "    df[\"senti_compound\"] = df[\"sentiment_cl\"].map(lambda x: x[\"compound\"])\n",
    "    \n",
    "    ## Remove redundant column\n",
    "\n",
    "    del df[\"sentiment_cl\"] \n",
    "    \n",
    "\n",
    "Senti(reddit_df)\n",
    "Senti(reddit_df2)\n",
    "Senti(reddit_df3)"
   ]
  },
  {
   "cell_type": "markdown",
   "metadata": {},
   "source": [
    "# 2.6 Re-label Sentiment Scores "
   ]
  },
  {
   "cell_type": "code",
   "execution_count": 22,
   "metadata": {},
   "outputs": [],
   "source": [
    "## Define function for assigning labels to senti compound scores\n",
    "\n",
    "def sentiOutput(df_senti):\n",
    "    score = []\n",
    "    try :\n",
    "        for row in df_senti[\"senti_compound\"]: \n",
    "            if row < -.05 :\n",
    "                score.append(\"Negative\")\n",
    "            elif row > .05:\n",
    "                score.append(\"Positive\")\n",
    "            else : \n",
    "                score.append(\"Neutral\")\n",
    "    except : \n",
    "        score.append(\"Unknown\")\n",
    "    #print(len(score))\n",
    "    \n",
    "    df_senti[\"Score\"]= score\n",
    "    return df_senti\n",
    "\n",
    "    #display(df_senti)\n",
    "    \n",
    "reddit_df_senti = sentiOutput(reddit_df)\n",
    "#display(reddit_df_senti)\n",
    "\n",
    "reddit_df_senti2 = sentiOutput(reddit_df2)\n",
    "#display(reddit_df_senti2)\n",
    "\n",
    "reddit_df_senti3 = sentiOutput(reddit_df3)\n",
    "#display(reddit_df_senti3)\n",
    "\n"
   ]
  },
  {
   "cell_type": "markdown",
   "metadata": {},
   "source": [
    "# 2.7 Sentiment Analysis Visualization Using Top Words from 3 Posts"
   ]
  },
  {
   "cell_type": "code",
   "execution_count": 23,
   "metadata": {},
   "outputs": [
    {
     "data": {
      "image/png": "[encoded data removed]",
      "text/plain": [
       "<Figure size 460.8x316.8 with 1 Axes>"
      ]
     },
     "metadata": {},
     "output_type": "display_data"
    }
   ],
   "source": [
    "## Function for searching for specific words and grabbing their associated senti compound score and sentiment label\n",
    "\n",
    "## Combine all three Reddit dataframes into one\n",
    "\n",
    "total_reddit = pd.concat([reddit_df_senti, reddit_df_senti2, reddit_df_senti3],ignore_index=True, sort=True)\n",
    "\n",
    "def wordSearch(word):\n",
    "    df_name = total_reddit[total_reddit['body'].str.contains(word)]\n",
    "\n",
    "    df_name = df_name[[\"Score\"]]\n",
    "    df_name = pd.DataFrame(df_name)\n",
    "    df_name['Word']= word\n",
    "    df_name[\"Compound\"] = total_reddit[\"senti_compound\"]\n",
    "    \n",
    "    return df_name\n",
    "\n",
    "## Run function with chosen top words\n",
    "\n",
    "fascist = wordSearch(\"fascist\")\n",
    "nationalist = wordSearch(\"nationalist\")\n",
    "nation = wordSearch(\"nation\")\n",
    "polish = wordSearch(\"Polish\")\n",
    "poland = wordSearch(\"Poland\")\n",
    "nazi = wordSearch(\"nazi\")\n",
    "right= wordSearch(\"right\")\n",
    "far =wordSearch(\"far\")\n",
    "\n",
    "   \n",
    "## Concatenate dataframes which contain results of word search function for each respective top word\n",
    "\n",
    "word_analysis = pd.concat([fascist, nationalist, nation, polish, poland, nazi, right, far], ignore_index= True, sort= True)   \n",
    "#display(word_analysis)\n",
    "\n",
    "\n",
    "## Plot sentiments associated with top words involved in the search above\n",
    "\n",
    "def set_style():\n",
    "    plt.style.use(['seaborn-white', 'seaborn-paper'])\n",
    "    plt.rc(\"font\", family=\"serif\")\n",
    "\n",
    "\n",
    "set_style()\n",
    "\n",
    "\n",
    "word_sentiment = word_analysis.groupby(['Word', 'Score']).Score.count().unstack()\n",
    "#display(word_sentiment)\n",
    "\n",
    "word_sentiment.plot(kind='bar')\n",
    "\n",
    "plt.xlabel(\"Word\")\n",
    "plt.ylabel(\"Count\")\n",
    "plt.xticks(rotation=0)\n",
    "\n",
    "plt.savefig('senti.png',  dpi=1200, bbox_inches = \"tight\")\n",
    "\n",
    "\n",
    "## Look at usage of word \"right\" to analyze associated sentiment scores\n",
    "\n",
    "df_name = total_reddit[total_reddit['body'].str.contains(\"right\")]\n",
    "#display(df_name)\n"
   ]
  },
  {
   "cell_type": "code",
   "execution_count": null,
   "metadata": {},
   "outputs": [],
   "source": [
    "## Plot distribution of positive, negative, and neutral comments for each Reddit post\n",
    "\n",
    "\n",
    "import matplotlib.pyplot as plt\n",
    "\n",
    "display(reddit_df_senti[\"Score\"].value_counts())\n",
    "display(reddit_df_senti2[\"Score\"].value_counts())\n",
    "display(reddit_df_senti3[\"Score\"].value_counts())\n",
    "\n",
    "def piePlot(df, postname):\n",
    "\n",
    "    fig1, ax1 = plt.subplots()\n",
    "    colors = ['#ff9999','#99ff99', '#ffcc99']\n",
    "    explode = (.1, 0,0)\n",
    "    labels = [\"Negative\", \"Positive\", \"Neutral\"]\n",
    "    ax1.pie(df.Score.value_counts(), explode=explode, labels=labels, colors=colors, autopct='%1.1f%%',\n",
    "            shadow=True, startangle=90)\n",
    "    plt.title(\"Sentiment Breakdown of Post \" + str(postname))\n",
    "\n",
    "set_style()\n",
    "piePlot(reddit_df_senti,1)\n",
    "#piePlot(reddit_df_senti2,2)\n",
    "#piePlot(reddit_df_senti3,3)"
   ]
  },
  {
   "cell_type": "code",
   "execution_count": null,
   "metadata": {},
   "outputs": [],
   "source": []
  }
 ],
 "metadata": {
  "kernelspec": {
   "display_name": "Python 3",
   "language": "python",
   "name": "python3"
  },
  "language_info": {
   "codemirror_mode": {
    "name": "ipython",
    "version": 3
   },
   "file_extension": ".py",
   "mimetype": "text/x-python",
   "name": "python",
   "nbconvert_exporter": "python",
   "pygments_lexer": "ipython3",
   "version": "3.6.9"
  }
 },
 "nbformat": 4,
 "nbformat_minor": 4
}
